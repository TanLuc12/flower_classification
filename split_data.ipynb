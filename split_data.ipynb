{
 "cells": [
  {
   "cell_type": "code",
   "execution_count": 11,
   "id": "cfd3b3a5",
   "metadata": {},
   "outputs": [],
   "source": [
    "import splitfolders"
   ]
  },
  {
   "cell_type": "code",
   "execution_count": 12,
   "id": "ec122cce",
   "metadata": {},
   "outputs": [],
   "source": [
    "input_folder='flowers'"
   ]
  },
  {
   "cell_type": "code",
   "execution_count": 14,
   "id": "53cc05d6",
   "metadata": {},
   "outputs": [
    {
     "name": "stderr",
     "output_type": "stream",
     "text": [
      "Copying files: 15740 files [00:24, 635.14 files/s]\n"
     ]
    }
   ],
   "source": [
    "splitfolders.ratio(input_folder,output='Running',seed=42,\n",
    "                  ratio=(.7,.0,.3),group_prefix=None)"
   ]
  },
  {
   "cell_type": "code",
   "execution_count": 14,
   "id": "03e704ab",
   "metadata": {},
   "outputs": [],
   "source": []
  },
  {
   "cell_type": "code",
   "execution_count": 15,
   "id": "f7086195",
   "metadata": {},
   "outputs": [],
   "source": [
    "\n"
   ]
  },
  {
   "cell_type": "code",
   "execution_count": null,
   "id": "c9d6af7b",
   "metadata": {},
   "outputs": [],
   "source": [
    "a=(\"astilbe\",\n",
    "\n",
    "\"bellflower\",\n",
    "\n",
    "\"black_eyed_susan\",\n",
    "\n",
    "\"calendula\",\n",
    "\n",
    "\"california_poppy\",\n",
    "\n",
    "\"carnation\",\n",
    "\n",
    "\"common_daisy\",\n",
    "\n",
    "\"coreopsis\",\n",
    "\n",
    "\"daffodil\",\n",
    "\n",
    "\"dandelion\",\n",
    "\n",
    "\"iris\",\n",
    " \n",
    "\"magnolia\",\n",
    "\n",
    "\"rose\",\n",
    "\n",
    "\"sunflower\",\n",
    "\"tulip\",\n",
    "\n",
    "\"water_lily\")\n"
   ]
  },
  {
   "cell_type": "code",
   "execution_count": null,
   "id": "81404253",
   "metadata": {},
   "outputs": [],
   "source": []
  },
  {
   "cell_type": "code",
   "execution_count": null,
   "id": "1e163334",
   "metadata": {},
   "outputs": [],
   "source": []
  },
  {
   "cell_type": "code",
   "execution_count": null,
   "id": "da614ff3",
   "metadata": {},
   "outputs": [],
   "source": [
    "\n",
    "    "
   ]
  },
  {
   "cell_type": "code",
   "execution_count": null,
   "id": "b6e44f45",
   "metadata": {},
   "outputs": [],
   "source": []
  }
 ],
 "metadata": {
  "kernelspec": {
   "display_name": "Python 3 (ipykernel)",
   "language": "python",
   "name": "python3"
  },
  "language_info": {
   "codemirror_mode": {
    "name": "ipython",
    "version": 3
   },
   "file_extension": ".py",
   "mimetype": "text/x-python",
   "name": "python",
   "nbconvert_exporter": "python",
   "pygments_lexer": "ipython3",
   "version": "3.9.12"
  }
 },
 "nbformat": 4,
 "nbformat_minor": 5
}
